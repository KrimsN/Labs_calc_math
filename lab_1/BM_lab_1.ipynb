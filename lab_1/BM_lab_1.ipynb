{
 "cells": [
  {
   "cell_type": "code",
   "execution_count": 1,
   "metadata": {
    "slideshow": {
     "slide_type": "slide"
    }
   },
   "outputs": [],
   "source": [
    "%matplotlib inline "
   ]
  },
  {
   "cell_type": "code",
   "execution_count": 2,
   "metadata": {
    "slideshow": {
     "slide_type": "skip"
    }
   },
   "outputs": [],
   "source": [
    "import sympy\n",
    "from sympy.parsing.sympy_parser import (parse_expr,\n",
    "                                        standard_transformations,\n",
    "                                        implicit_application,\n",
    "                                        implicit_multiplication,\n",
    "                                        convert_xor)\n",
    "from sympy import diff\n",
    "from sympy.plotting import plot\n",
    "from sympy.abc import x\n",
    "from math import log10, e, pi\n",
    "\n",
    "class Function:\n",
    "    \"\"\"Класс, инкапсулирующий вычисление скалярной функции, заданной в виде строки\n",
    "определенного формата\"\"\"\n",
    "    def __init__(self, expr):\n",
    "        # преобразования для парсера sympy\n",
    "        transformations = standard_transformations + (implicit_multiplication, # умножение без знака умножения\n",
    "                                                      implicit_application,  # применение скалярных ф-ий без скобок\n",
    "                                                      convert_xor) # каретка как символ возведения в степень\n",
    "        # замены для парсера\n",
    "        replacers = {'e' : e,\n",
    "                     'tg' : sympy.functions.tan,\n",
    "                     'ctg' : sympy.functions.cot,\n",
    "                     'lg' : sympy.Lambda(x, sympy.functions.log(x) / sympy.functions.log(10))}\n",
    "        \n",
    "        expr = expr.lower()\n",
    "        \n",
    "        self.fun = parse_expr(expr,\n",
    "                              transformations = transformations,\n",
    "                              local_dict=replacers)\n",
    "        if self.fun.free_symbols - {x} != set():\n",
    "            raise ValueError('Выражение содержит переменные кроме x')\n",
    "        \n",
    "    def __call__(self, arg, deriv=0):\n",
    "        res = self.fun if deriv == 0 else self.fun.diff(*(x for i in range(0, deriv)))\n",
    "        return float(res.subs({x : arg}))\n",
    "    \n",
    "    def diff(self):\n",
    "        return diff(self.fun, 'x')\n",
    "    \n",
    "    def plot_x(self, dx, rng=5):\n",
    "        plot(self.fun, (x, dx-rng, dx+rng))\n",
    "        \n",
    "    def plot(self, dx1, dx2):\n",
    "        plot(self.fun, (x, dx1, dx2))"
   ]
  },
  {
   "cell_type": "code",
   "execution_count": 10,
   "metadata": {},
   "outputs": [],
   "source": [
    "from math import sqrt\n",
    "phi_ = (sqrt(5)+1)/2\n",
    "\n",
    "\n",
    "\n",
    "def dichotomy(f: Function, a: float, b: float, eps: float=1e-7):\n",
    "    c = (a+b)/2\n",
    "    while abs(f(c)) >= eps or (b-a)/2 > eps:\n",
    "        c = (a+b)/2\n",
    "        if f(a)*f(c) <= 0:\n",
    "            b = c\n",
    "        else:\n",
    "            a = c\n",
    "            \n",
    "    x_ = (b+a)/2\n",
    "    return {'Name':'Метод дихотомии' ,'x*':x_, 'f(x*)': abs(f(x_)), 'eps*': (b-a)/2}\n",
    "\n",
    "\n",
    "def chord(f: Function, a: float, b: float, eps: float=1e-7):\n",
    "    c = (a+b)/2\n",
    "    while abs(f(c)) > eps:\n",
    "        c = a - (f(a)/(f(b)-f(a)))*(b-a)\n",
    "        #a = b - (f(b)/(f(a)-f(b)))*(a-b)\n",
    "        if f(a)*f(c) <= 0:\n",
    "            b = c\n",
    "        else:\n",
    "            a = c\n",
    "    x_ = a - (f(a)/(f(b)-f(a)))*(b-a)\n",
    "    return {'Name':'Метод хорд' ,'x*':x_, 'f(x*)': f(x_), 'eps*': abs(c-x_)/2}\n",
    "\n",
    "\n",
    "def newton(f: Function, a: float, b: float, eps: float=1e-7): #Метод Ньютона\n",
    "    \n",
    "    \n",
    "    def phi(arg, f):\n",
    "        return arg - (f(arg)/ f(arg,1))\n",
    "    \n",
    "    if f(a)*f(a,2) > 0:\n",
    "        x_ = a\n",
    "    elif f(b)*f(b,2) > 0:\n",
    "        x_ = b\n",
    "    else:\n",
    "        c = a - (f(a)/(f(b)-f(a)))*(b-a)\n",
    "        if f(a) * f(c) < 0:\n",
    "            x_ = a\n",
    "        else:\n",
    "            x_ = c\n",
    "            \n",
    "            \n",
    "    x__ = phi(x_, f)\n",
    "    \n",
    "    while abs(x__- x_) > eps or abs(f(x__)) > eps:\n",
    "        x_ , x__ = x__, phi(x_, f)\n",
    "        \n",
    "    return {'Name':'Метод Ньютона' ,'x*':x__, 'f(x*)': abs(f(x__)), 'eps*': abs(x__ - x_)/2}    \n",
    "    \n",
    "\n",
    "    \n",
    "        \n",
    "def combined(f: Function, a: float, b: float, eps: float=1e-7):  # Комбинированный метод\n",
    "    \n",
    "    while abs((b-a)/2) > eps or abs(f((b+a)/2)) > eps:\n",
    "        \n",
    "        print('a:')\n",
    "        print('f(a) = ', f(a), ' f\\'\\'(a) = ', f(a,2))\n",
    "        \n",
    "        if f(a)*f(a, 2) <= 0:\n",
    "            a = a - (f(a)*(a-b)) / (f(a)-f(b))\n",
    "            print('хорд a = ', a)\n",
    "        else:\n",
    "            a = a - f(a)/f(a, 1)\n",
    "            print('ньютон a = ', a)\n",
    "        \n",
    "        print('b:')\n",
    "        print('f(b) = ', f(b), ' f\\'\\'(b) = ', f(b,2))\n",
    "        if f(b)*f(b, 2) <= 0:\n",
    "            b = b - (f(b)*(b-a)) / (f(b)-f(a))\n",
    "            print('хорд b = ', b)\n",
    "        else:\n",
    "            b = b - f(b)/f(b, 1)\n",
    "            print('ньютон b = ', b)\n",
    "    print('конец')\n",
    "    x_ = (a+b)/2\n",
    "    print('x* = ', x_)\n",
    "        \n",
    "    return {'Name':'Комбинированный метод' ,'x*':x_, 'f(x*)': abs(f(x_)), 'eps*': (b-a)/2}\n",
    "\n",
    "'''\n",
    "def gld(f, a, b, eps=1e-7):\n",
    "    x_1 = b - (b - a) / phi_\n",
    "    x_2 = a + (b - a) / phi_\n",
    "    y1 = f(x_1)\n",
    "    y2 = f(x_2)\n",
    "    if '''\n",
    "    \n",
    "\n",
    "    \n",
    "\n",
    "    \n",
    "def extrem_1(f, a, b, eps=1e-1): # Итеративный\n",
    "    Max = abs(f(a,1))\n",
    "    \n",
    "    x_max = x_ = a\n",
    "    while x_ < b:\n",
    "        m = abs(f(x_,1))\n",
    "        if m > Max: \n",
    "            Max = m\n",
    "            x_max = x_\n",
    "        x_ += eps\n",
    "        #print('x: {:f} f(x): {:f} Max: {:f} x_max: {}'.format(x_, m, Max, x_max))\n",
    "    return Max\n",
    "    \n",
    "\n",
    "def iterative(f: Function, a: float, b: float, eps: float=1e-7): # Итеративный\n",
    "    Max_f = extrem_1(f, a, b, 1e-1)\n",
    "    if (f(a) > f(b)):\n",
    "        phi = lambda x, f: (f(x) / Max_f) - x\n",
    "    else:\n",
    "        phi = lambda x, f: x - (f(x) / Max_f)\n",
    "    \n",
    "    x_n_1 = (a+b)/2\n",
    "            \n",
    "    x_n = phi(x_n_1, f)\n",
    "    \n",
    "    while abs(x_n - x_n_1) > eps or abs(f(x_n)) > eps:\n",
    "        \n",
    "        x_n, x_n_1 = x_n_1, phi(x_n, f)\n",
    "        \n",
    "        #print('x_n: {} f(x_n): {}  x_n-1: {}'.format(x_n, f(x_n), x_n_1))\n",
    "        \n",
    "    return {'Name':'Метод простых итераций' ,'x*':x_n, 'f(x*)': abs(f(x_n)), 'eps*': abs(x_n - x_n_1)}\n",
    "\n",
    "    \n",
    "def golden_section(f: Function, a: float, b: float, eps: float=1e-7): #Метод Золотого сечения): \n",
    "    d = a + (b-a)/phi_\n",
    "    c = b - d + a\n",
    "    x_ = (a+b)/2\n",
    "    while abs(f(x_)) > eps or abs((b-a)/2) > eps:\n",
    "        if f(a)*f(d) <= 0:\n",
    "            b = d\n",
    "        else:\n",
    "            a = c\n",
    "        d = a + (b-a)/phi_\n",
    "        c = b - d + a\n",
    "        \n",
    "        x_ = (a+b) / 2\n",
    "    \n",
    "    return {'Name':'Метод золотого сечения' ,'x*':x_, 'f(x*)': f(x_), 'eps*': abs((b-a)/2)}\n"
   ]
  },
  {
   "cell_type": "code",
   "execution_count": 7,
   "metadata": {},
   "outputs": [],
   "source": [
    "string = 'cos(x)'\n",
    "a, b = 0.0, 3.0"
   ]
  },
  {
   "cell_type": "code",
   "execution_count": 6,
   "metadata": {},
   "outputs": [],
   "source": [
    "#string = 'sin x'\n",
    "#a, b = 3.0, 3.5"
   ]
  },
  {
   "cell_type": "code",
   "execution_count": 7,
   "metadata": {},
   "outputs": [],
   "source": [
    "string = 'x^2-4'\n",
    "a, b = -1, 3"
   ]
  },
  {
   "cell_type": "code",
   "execution_count": 8,
   "metadata": {},
   "outputs": [],
   "source": [
    "string = '-x^2-8+11'\n",
    "a, b = -5.0, 0"
   ]
  },
  {
   "cell_type": "code",
   "execution_count": 12,
   "metadata": {},
   "outputs": [],
   "source": [
    "string = '3x^3+2x^2-3x+10'\n",
    "a, b = -10, 10"
   ]
  },
  {
   "cell_type": "code",
   "execution_count": 4,
   "metadata": {},
   "outputs": [],
   "source": [
    "string = 'x'\n",
    "a, b = -10, 10"
   ]
  },
  {
   "cell_type": "code",
   "execution_count": 11,
   "metadata": {},
   "outputs": [
    {
     "name": "stdout",
     "output_type": "stream",
     "text": [
      "cos(x)\n"
     ]
    },
    {
     "data": {
      "image/png": "[encoded data removed]",
      "text/plain": [
       "<Figure size 432x288 with 1 Axes>"
      ]
     },
     "metadata": {
      "needs_background": "light"
     },
     "output_type": "display_data"
    }
   ],
   "source": [
    "f = Function(string)\n",
    "print(f.fun)\n",
    "f.plot(a,b)\n",
    "#z = Function(str(f.diff()))\n",
    "#z.plot(a,b)\n"
   ]
  },
  {
   "cell_type": "code",
   "execution_count": 7,
   "metadata": {},
   "outputs": [
    {
     "name": "stdout",
     "output_type": "stream",
     "text": [
      "0\n"
     ]
    }
   ],
   "source": [
    "from sympy import solve\n",
    "l_x = solve(f.fun)\n",
    "for l in l_x:\n",
    "    print(l)"
   ]
  },
  {
   "cell_type": "code",
   "execution_count": 15,
   "metadata": {},
   "outputs": [],
   "source": [
    "#si = Function('cos x')\n",
    "#si.plot(-2, 1.5)"
   ]
  },
  {
   "cell_type": "code",
   "execution_count": 12,
   "metadata": {},
   "outputs": [
    {
     "data": {
      "text/plain": [
       "{'Name': 'Метод простых итераций',\n",
       " 'x*': 1.5707963266742275,\n",
       " 'f(x*)': 1.206690915558236e-10,\n",
       " 'eps*': 1.2066903032348364e-10}"
      ]
     },
     "execution_count": 12,
     "metadata": {},
     "output_type": "execute_result"
    }
   ],
   "source": [
    "iterative(f, a, b)"
   ]
  },
  {
   "cell_type": "code",
   "execution_count": 9,
   "metadata": {
    "scrolled": true
   },
   "outputs": [
    {
     "data": {
      "text/plain": [
       "{'Name': 'Метод дихотомии',\n",
       " 'x*': -3.725290298461914e-08,\n",
       " 'f(x*)': 3.725290298461914e-08,\n",
       " 'eps*': 3.725290298461914e-08}"
      ]
     },
     "execution_count": 9,
     "metadata": {},
     "output_type": "execute_result"
    }
   ],
   "source": [
    "dichotomy(f, a, b)"
   ]
  },
  {
   "cell_type": "code",
   "execution_count": 10,
   "metadata": {
    "scrolled": true
   },
   "outputs": [
    {
     "data": {
      "text/plain": [
       "{'Name': 'Метод хорд', 'x*': 0.0, 'f(x*)': 0.0, 'eps*': 0.0}"
      ]
     },
     "execution_count": 10,
     "metadata": {},
     "output_type": "execute_result"
    }
   ],
   "source": [
    "chord(f, a, b)"
   ]
  },
  {
   "cell_type": "code",
   "execution_count": 11,
   "metadata": {},
   "outputs": [
    {
     "data": {
      "text/plain": [
       "{'Name': 'Метод Ньютона', 'x*': 0.0, 'f(x*)': 0.0, 'eps*': 0.0}"
      ]
     },
     "execution_count": 11,
     "metadata": {},
     "output_type": "execute_result"
    }
   ],
   "source": [
    "newton(f, a, b)"
   ]
  },
  {
   "cell_type": "code",
   "execution_count": 12,
   "metadata": {},
   "outputs": [
    {
     "data": {
      "text/plain": [
       "{'Name': 'Метод золотого сечения',\n",
       " 'x*': -6.91393673986087e-16,\n",
       " 'f(x*)': -6.91393673986087e-16,\n",
       " 'eps*': 7.071019424062068e-08}"
      ]
     },
     "execution_count": 12,
     "metadata": {},
     "output_type": "execute_result"
    }
   ],
   "source": [
    "golden_section(f, a, b)"
   ]
  },
  {
   "cell_type": "code",
   "execution_count": 13,
   "metadata": {},
   "outputs": [
    {
     "name": "stdout",
     "output_type": "stream",
     "text": [
      "a:\n",
      "f(a) =  -10.0  f''(a) =  0.0\n",
      "хорд a =  0.0\n",
      "b:\n",
      "f(b) =  10.0  f''(b) =  0.0\n",
      "хорд b =  0.0\n",
      "конец\n",
      "x* =  0.0\n"
     ]
    },
    {
     "data": {
      "text/plain": [
       "{'Name': 'Комбинированный метод', 'x*': 0.0, 'f(x*)': 0.0, 'eps*': 0.0}"
      ]
     },
     "execution_count": 13,
     "metadata": {},
     "output_type": "execute_result"
    }
   ],
   "source": [
    "combined(f, a, b)"
   ]
  },
  {
   "cell_type": "code",
   "execution_count": null,
   "metadata": {},
   "outputs": [],
   "source": [
    "\n"
   ]
  },
  {
   "cell_type": "markdown",
   "metadata": {},
   "source": [
    "\n",
    "from sympy.parsing.sympy_parser import (parse_expr,\n",
    "                                        standard_transformations,\n",
    "                                        implicit_application,\n",
    "                                        implicit_multiplication)\n",
    "from sympy.plotting import plot\n",
    "from sympy.abc import x\n",
    "\n",
    "class Function:\n",
    "    def __init__(self, expr):\n",
    "        transformations = standard_transformations + (implicit_application,\n",
    "                                                      implicit_multiplication)\n",
    "        self.fun = parse_expr(expr.replace('^', '**'),\n",
    "        transformations=transformations)\n",
    "\n",
    "    def __call__(self, arg):\n",
    "        return float(self.fun.subs({x : arg}))\n",
    "    \n",
    "    def plot_x(self, dx, rng=5):\n",
    "        plot(self.fun, (x, dx-rng, dx+rng))\n",
    "        \n",
    "    def plot(self, dx1, dx2):\n",
    "        plot(self.fun, (x, dx1, dx2))"
   ]
  },
  {
   "cell_type": "code",
   "execution_count": 34,
   "metadata": {},
   "outputs": [
    {
     "name": "stdout",
     "output_type": "stream",
     "text": [
      "Reset css and font defaults in:\n",
      "C:\\Users\\KrimsN\\.jupyter\\custom &\n",
      "C:\\Users\\KrimsN\\AppData\\Roaming\\jupyter\\nbextensions\n"
     ]
    }
   ],
   "source": [
    "    !jt -r"
   ]
  }
 ],
 "metadata": {
  "celltoolbar": "Tags",
  "kernelspec": {
   "display_name": "Python 3",
   "language": "python",
   "name": "python3"
  },
  "language_info": {
   "codemirror_mode": {
    "name": "ipython",
    "version": 3
   },
   "file_extension": ".py",
   "mimetype": "text/x-python",
   "name": "python",
   "nbconvert_exporter": "python",
   "pygments_lexer": "ipython3",
   "version": "3.7.3"
  }
 },
 "nbformat": 4,
 "nbformat_minor": 2
}
